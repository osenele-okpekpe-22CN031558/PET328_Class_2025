{
 "cells": [
  {
   "cell_type": "markdown",
   "id": "c3e87412",
   "metadata": {},
   "source": [
    "## A script to classify and count 'active' and 'inactive' gridblocks in a discretized reservoir"
   ]
  },
  {
   "cell_type": "code",
   "execution_count": null,
   "id": "a53afb20",
   "metadata": {},
   "outputs": [],
   "source": [
    "#################### Task 1 ############################\n",
    "    # Request for reservoir dimensions and discretization parameters\n",
    "LXX = float(input('What is the length of the reservoir in the x-direction?\\n'))\n",
    "LYY = float(input('What is the length of the reservoir in the y-direction?\\n'))\n",
    "LZZ = float(input('What is the length of the reservoir in the z-direction?\\n'))\n",
    "nx = int(input('How many gridblocks are in the x-direction?\\n'))\n",
    "ny = int(input('How many gridblocks are in the y-direction?\\n'))\n",
    "nz = int(input('How many gridblocks are in the z-direction?\\n'))\n",
    "\n"
   ]
  },
  {
   "cell_type": "code",
   "execution_count": null,
   "id": "559de93e",
   "metadata": {},
   "outputs": [],
   "source": [
    "\n",
    "\n",
    "#################### Task 2 ############################\n",
    "    # Request for the cut-off value\n",
    "perm_co = float(input('What is the permeability cut-off value?\\n'))"
   ]
  },
  {
   "cell_type": "code",
   "execution_count": null,
   "id": "81bee451",
   "metadata": {},
   "outputs": [],
   "source": [
    "#################### Task 3 ############################\n",
    "    # Initialize counters\n",
    "\n",
    "noo_active = 0\n",
    "noo_inactive = 0"
   ]
  },
  {
   "cell_type": "code",
   "execution_count": null,
   "id": "dd77006a",
   "metadata": {},
   "outputs": [],
   "source": [
    "#################### Task 4 ############################\n",
    "    # Loop through all blocks (nested loop)\n",
    "for Zs in range(1,nz + 1):\n",
    "    # Initialize layer counter\n",
    "    no_active = 0\n",
    "    no_inactive = 0\n",
    "    # two nested loops go here\n",
    "    for row in range(1,ny + 1):\n",
    "        for col in range(1,nx + 1):\n",
    "             nat_order = ( col + ((row - 1) * nx)) + ((Zs - 1) * nx * ny)\n",
    "             print(f'Hello user,currently working on gridblock {nat_order}.Thank you.\\n')\n",
    "             perm = float(input(f'What is the permeabilty of gridblock {nat_order} in mD?\\n'))\n",
    "             if perm < perm_co:\n",
    "                 no_inactive = no_inactive + 1\n",
    "                 noo_inactive = noo_inactive + 1\n",
    "                 print(f'gridblock{nat_order} is inactive\\n\\n')\n",
    "\n",
    "             else:\n",
    "                 no_active = no_active + 1\n",
    "                 noo_active = noo_active + 1\n",
    "                 print(f'gridblock{nat_order} is active\\n')\n",
    "\n",
    "    # Print layer count\n",
    "    print(f'There is/are {no_active} active gridblocks in layer {Zs}.\\n')\n",
    "    print(f'There is/are {no_inactive} inactive gridblocks in layer {Zs}.\\n')\n",
    "\n",
    "\n"
   ]
  },
  {
   "cell_type": "code",
   "execution_count": null,
   "id": "ec00ce2a",
   "metadata": {},
   "outputs": [],
   "source": [
    "#################### Task 5 ############################\n",
    "    # Print overall counts\n",
    "\n",
    "# Print 'active'\n",
    "print(f'There is/are {noo_active} active gridblocks in the reservoir.\\n')\n",
    "\n",
    "# Print 'inactive'\n",
    "print(f'There is/are {noo_inactive} inactive gridblocks in the reservoir.\\n')\n"
   ]
  },
  {
   "cell_type": "code",
   "execution_count": null,
   "id": "d10fc2e9-837d-42a7-a3f3-579415826c82",
   "metadata": {},
   "outputs": [],
   "source": [
    "Total_grid = (nx * ny) * nz\n",
    "\n",
    "Per_active = (noo_active/Total_grid) * 100\n",
    "\n",
    "\n",
    "print(f'The percentage of active gridblocks in the reservoir is {round(Per_active,2)}%\\n\\n')"
   ]
  },
  {
   "cell_type": "code",
   "execution_count": null,
   "id": "916cfe6c-f01c-4c6f-8e0e-1f6926e6281b",
   "metadata": {},
   "outputs": [],
   "source": []
  }
 ],
 "metadata": {
  "kernelspec": {
   "display_name": "Python [conda env:base] *",
   "language": "python",
   "name": "conda-base-py"
  },
  "language_info": {
   "codemirror_mode": {
    "name": "ipython",
    "version": 3
   },
   "file_extension": ".py",
   "mimetype": "text/x-python",
   "name": "python",
   "nbconvert_exporter": "python",
   "pygments_lexer": "ipython3",
   "version": "3.12.7"
  }
 },
 "nbformat": 4,
 "nbformat_minor": 5
}
